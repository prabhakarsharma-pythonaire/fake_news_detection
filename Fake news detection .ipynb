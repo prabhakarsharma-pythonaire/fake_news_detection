{
 "cells": [
  {
   "cell_type": "code",
   "execution_count": 24,
   "id": "4e5d2010",
   "metadata": {},
   "outputs": [],
   "source": [
    "#importing dependencies\n",
    "\n",
    "import numpy as np\n",
    "import pandas as pd\n",
    "import re\n",
    "from nltk.corpus import stopwords\n",
    "from nltk.stem.porter import PorterStemmer\n",
    "from sklearn.feature_extraction.text import TfidfVectorizer\n",
    "from sklearn.model_selection import train_test_split\n",
    "from sklearn.linear_model import LogisticRegression\n",
    "from sklearn.metrics import accuracy_score\n",
    "import nltk"
   ]
  },
  {
   "cell_type": "code",
   "execution_count": 25,
   "id": "d7c2ae46",
   "metadata": {},
   "outputs": [
    {
     "name": "stderr",
     "output_type": "stream",
     "text": [
      "[nltk_data] Downloading package stopwords to\n",
      "[nltk_data]     C:\\Users\\91920\\AppData\\Roaming\\nltk_data...\n",
      "[nltk_data]   Package stopwords is already up-to-date!\n"
     ]
    }
   ],
   "source": [
    " nltk.download(\"stopwords\")\n",
    "    #Loading news dataset\n",
    "news_dataset=pd.read_csv(r\"C:\\aa projects\\machine learning\\fake_news_dataset.csv\")"
   ]
  },
  {
   "cell_type": "code",
   "execution_count": 26,
   "id": "6198e59f",
   "metadata": {},
   "outputs": [
    {
     "name": "stdout",
     "output_type": "stream",
     "text": [
      "(20800, 5)\n",
      "id           0\n",
      "title      558\n",
      "author    1957\n",
      "text        39\n",
      "label        0\n",
      "dtype: int64\n",
      "id        0\n",
      "title     0\n",
      "author    0\n",
      "text      0\n",
      "label     0\n",
      "dtype: int64\n",
      "   id                                              title              author  \\\n",
      "0   0  House Dem Aide: We Didn’t Even See Comey’s Let...       Darrell Lucus   \n",
      "1   1  FLYNN: Hillary Clinton, Big Woman on Campus - ...     Daniel J. Flynn   \n",
      "2   2                  Why the Truth Might Get You Fired  Consortiumnews.com   \n",
      "3   3  15 Civilians Killed In Single US Airstrike Hav...     Jessica Purkiss   \n",
      "4   4  Iranian woman jailed for fictional unpublished...      Howard Portnoy   \n",
      "\n",
      "                                                text  label  \\\n",
      "0  House Dem Aide: We Didn’t Even See Comey’s Let...      1   \n",
      "1  Ever get the feeling your life circles the rou...      0   \n",
      "2  Why the Truth Might Get You Fired October 29, ...      1   \n",
      "3  Videos 15 Civilians Killed In Single US Airstr...      1   \n",
      "4  Print \\nAn Iranian woman has been sentenced to...      1   \n",
      "\n",
      "                                             content  \n",
      "0  Darrell Lucus House Dem Aide: We Didn’t Even S...  \n",
      "1  Daniel J. Flynn FLYNN: Hillary Clinton, Big Wo...  \n",
      "2  Consortiumnews.com Why the Truth Might Get You...  \n",
      "3  Jessica Purkiss 15 Civilians Killed In Single ...  \n",
      "4  Howard Portnoy Iranian woman jailed for fictio...  \n"
     ]
    }
   ],
   "source": [
    "\n",
    "#*************************Data preprocessing*********************************************\n",
    "\n",
    "#Loading news dataset\n",
    "news_dataset=pd.read_csv(r\"C:\\aa projects\\machine learning\\fake_news_dataset.csv\")\n",
    "print(news_dataset.shape)\n",
    "print(news_dataset.isnull().sum())\n",
    "\n",
    "#filled missing value with null string bcoz the dataset was huge so we don't need any preprocessing\n",
    "news_dataset=news_dataset.fillna(\"\")\n",
    "\n",
    "#rechecking if there is still any any null value\n",
    "print(news_dataset.isnull().sum())\n",
    "\n",
    "#merging the author and title into content\n",
    "news_dataset[\"content\"]=news_dataset[\"author\"]+\" \"+news_dataset[\"title\"]\n",
    "print(news_dataset.head())\n",
    "\n",
    "X=news_dataset.drop(columns=\"label\",axis=1)\n",
    "Y=news_dataset[\"label\"]\n"
   ]
  },
  {
   "cell_type": "code",
   "execution_count": 27,
   "id": "63765a56",
   "metadata": {},
   "outputs": [],
   "source": [
    "#Stemming:\n",
    "            #The process of reducing word to its root\n",
    "            #actor,actress,acting-->act\n",
    "\n",
    "port_stem=PorterStemmer()\n",
    "\n",
    "def stemming(content):\n",
    "    stemmed_content=re.sub(r\"[^a-zA-Z]\",\" \",content)        #removing everything except alphabets\n",
    "    stemmed_content=stemmed_content.lower()\n",
    "    stemmed_content=stemmed_content.split()\n",
    "    stemmed_content=[port_stem.stem(word) for word in stemmed_content if not word in stopwords.words(\"english\")]    #stemming non stopwords only\n",
    "    stemmed_content=\" \".join(stemmed_content)\n",
    "    return stemmed_content\n",
    "\n",
    "news_dataset[\"content\"]=news_dataset[\"content\"].apply(stemming)\n",
    "\n"
   ]
  },
  {
   "cell_type": "code",
   "execution_count": 28,
   "id": "459a75d4",
   "metadata": {},
   "outputs": [
    {
     "name": "stdout",
     "output_type": "stream",
     "text": [
      "   id                                              title              author  \\\n",
      "0   0  House Dem Aide: We Didn’t Even See Comey’s Let...       Darrell Lucus   \n",
      "1   1  FLYNN: Hillary Clinton, Big Woman on Campus - ...     Daniel J. Flynn   \n",
      "2   2                  Why the Truth Might Get You Fired  Consortiumnews.com   \n",
      "3   3  15 Civilians Killed In Single US Airstrike Hav...     Jessica Purkiss   \n",
      "4   4  Iranian woman jailed for fictional unpublished...      Howard Portnoy   \n",
      "\n",
      "                                                text  label  \\\n",
      "0  House Dem Aide: We Didn’t Even See Comey’s Let...      1   \n",
      "1  Ever get the feeling your life circles the rou...      0   \n",
      "2  Why the Truth Might Get You Fired October 29, ...      1   \n",
      "3  Videos 15 Civilians Killed In Single US Airstr...      1   \n",
      "4  Print \\nAn Iranian woman has been sentenced to...      1   \n",
      "\n",
      "                                             content  \n",
      "0  darrel lucu hous dem aid even see comey letter...  \n",
      "1  daniel j flynn flynn hillari clinton big woman...  \n",
      "2             consortiumnew com truth might get fire  \n",
      "3  jessica purkiss civilian kill singl us airstri...  \n",
      "4  howard portnoy iranian woman jail fiction unpu...  \n"
     ]
    }
   ],
   "source": [
    "print(news_dataset.head())"
   ]
  },
  {
   "cell_type": "code",
   "execution_count": 29,
   "id": "7e39d9d4",
   "metadata": {},
   "outputs": [
    {
     "name": "stdout",
     "output_type": "stream",
     "text": [
      "['darrel lucu hous dem aid even see comey letter jason chaffetz tweet'\n",
      " 'daniel j flynn flynn hillari clinton big woman campu breitbart'\n",
      " 'consortiumnew com truth might get fire' ...\n",
      " 'michael j de la merc rachel abram maci said receiv takeov approach hudson bay new york time'\n",
      " 'alex ansari nato russia hold parallel exercis balkan'\n",
      " 'david swanson keep f aliv']\n",
      "[1 0 1 ... 0 1 1]\n"
     ]
    }
   ],
   "source": [
    "#Seperating the dataset\n",
    "X=news_dataset[\"content\"].values\n",
    "Y=news_dataset[\"label\"].values\n",
    "\n",
    "print(X)\n",
    "print(Y)"
   ]
  },
  {
   "cell_type": "code",
   "execution_count": 30,
   "id": "4820e9e0",
   "metadata": {},
   "outputs": [
    {
     "name": "stdout",
     "output_type": "stream",
     "text": [
      "  (0, 15686)\t0.28485063562728646\n",
      "  (0, 2483)\t0.3676519686797209\n",
      "  (0, 7692)\t0.24785219520671603\n",
      "  (0, 8630)\t0.29212514087043684\n",
      "  (0, 2959)\t0.2468450128533713\n",
      "  (0, 13473)\t0.2565896679337957\n",
      "  (0, 4973)\t0.233316966909351\n",
      "  (0, 267)\t0.27010124977708766\n",
      "  (0, 3792)\t0.2705332480845492\n",
      "  (0, 7005)\t0.21874169089359144\n",
      "  (0, 8909)\t0.3635963806326075\n",
      "  (0, 3600)\t0.3598939188262559\n",
      "  (1, 1894)\t0.15521974226349364\n",
      "  (1, 2223)\t0.3827320386859759\n",
      "  (1, 16799)\t0.30071745655510157\n",
      "  (1, 1497)\t0.2939891562094648\n",
      "  (1, 2813)\t0.19094574062359204\n",
      "  (1, 6816)\t0.1904660198296849\n",
      "  (1, 5503)\t0.7143299355715573\n",
      "  (1, 3568)\t0.26373768806048464\n",
      "  (2, 5389)\t0.3866530551182615\n",
      "  (2, 5968)\t0.3474613386728292\n",
      "  (2, 9620)\t0.49351492943649944\n",
      "  (2, 15611)\t0.41544962664721613\n",
      "  (2, 2943)\t0.3179886800654691\n",
      "  :\t:\n",
      "  (20797, 1287)\t0.3353805680413986\n",
      "  (20797, 13122)\t0.24825263521976057\n",
      "  (20797, 12344)\t0.27263457663336677\n",
      "  (20797, 14967)\t0.3115945315488075\n",
      "  (20797, 12138)\t0.24778257724396505\n",
      "  (20797, 9518)\t0.29542040034203126\n",
      "  (20797, 8364)\t0.22322585870464115\n",
      "  (20797, 3643)\t0.2115550061362374\n",
      "  (20797, 7042)\t0.21799048897828685\n",
      "  (20797, 9588)\t0.17455348025522197\n",
      "  (20797, 15295)\t0.08159261204402356\n",
      "  (20797, 16996)\t0.08315655906109998\n",
      "  (20797, 10306)\t0.08038079000566466\n",
      "  (20798, 1125)\t0.4460515589182236\n",
      "  (20798, 5032)\t0.4083701450239529\n",
      "  (20798, 588)\t0.3112141524638974\n",
      "  (20798, 350)\t0.28446937819072576\n",
      "  (20798, 11052)\t0.4460515589182236\n",
      "  (20798, 6889)\t0.32496285694299426\n",
      "  (20798, 10177)\t0.3192496370187028\n",
      "  (20798, 13046)\t0.22363267488270608\n",
      "  (20799, 377)\t0.5677577267055112\n",
      "  (20799, 14852)\t0.5677577267055112\n",
      "  (20799, 3623)\t0.37927626273066584\n",
      "  (20799, 8036)\t0.45983893273780013\n"
     ]
    }
   ],
   "source": [
    "#Convert the textual data into numerical data\n",
    "vectorizer=TfidfVectorizer()\n",
    "X=vectorizer.fit_transform(X)\n",
    "\n",
    "print(X)"
   ]
  },
  {
   "cell_type": "code",
   "execution_count": 32,
   "id": "9fda4c03",
   "metadata": {},
   "outputs": [],
   "source": [
    "#Splitting the data into rain test and split\n",
    "X_train,X_test,Y_train,Y_test=train_test_split(X,Y,test_size=0.2,stratify=Y,random_state=3)\n",
    "            #stratify=Y bcoz it will split the real and fake news in eqal equal portion in training and testing data"
   ]
  },
  {
   "cell_type": "code",
   "execution_count": 35,
   "id": "fa6e2dff",
   "metadata": {},
   "outputs": [
    {
     "data": {
      "text/plain": [
       "LogisticRegression()"
      ]
     },
     "execution_count": 35,
     "metadata": {},
     "output_type": "execute_result"
    }
   ],
   "source": [
    "#Training the Model:logistic Regression\n",
    "\n",
    "model=LogisticRegression()\n",
    "model.fit(X_train,Y_train)"
   ]
  },
  {
   "cell_type": "code",
   "execution_count": null,
   "id": "ed3b6399",
   "metadata": {},
   "outputs": [],
   "source": [
    "\n",
    "#Evaluation\n",
    "#Accuracy\n",
    "\n",
    "X_train_prediction=model.predict(X_train)\n",
    "training_data_accuracy=accuracy_score(X_train_prediction,Y_train)\n",
    "\n",
    "print(\"Accuracy on training data:\",training_data_accuracy)\n",
    "X_test_prediction=model.predict(X_test)\n",
    "test_data_accuracy=accuracy_score(X_test_prediction,Y_test)\n",
    "print(\"Accuracy on test data:\",test_data_accuracy)\n",
    "\n",
    "\n",
    "\n",
    "\n"
   ]
  },
  {
   "cell_type": "markdown",
   "id": "ba4c3119",
   "metadata": {},
   "source": [
    "Making a predictive system\n"
   ]
  },
  {
   "cell_type": "code",
   "execution_count": 41,
   "id": "592dc1c6",
   "metadata": {},
   "outputs": [
    {
     "name": "stdout",
     "output_type": "stream",
     "text": [
      "The news is real\n"
     ]
    }
   ],
   "source": [
    "X_new=X_test[1]\n",
    "prediction=model.predict(X_new)\n",
    "if prediction==0:\n",
    "    print(\"The news is real\")\n",
    "else:\n",
    "    print(\"The news is fake\")"
   ]
  },
  {
   "cell_type": "code",
   "execution_count": null,
   "id": "93154348",
   "metadata": {},
   "outputs": [],
   "source": []
  },
  {
   "cell_type": "code",
   "execution_count": null,
   "id": "1398a3f8",
   "metadata": {},
   "outputs": [],
   "source": []
  },
  {
   "cell_type": "code",
   "execution_count": null,
   "id": "c1fcd89a",
   "metadata": {},
   "outputs": [],
   "source": []
  }
 ],
 "metadata": {
  "kernelspec": {
   "display_name": "Python 3 (ipykernel)",
   "language": "python",
   "name": "python3"
  },
  "language_info": {
   "codemirror_mode": {
    "name": "ipython",
    "version": 3
   },
   "file_extension": ".py",
   "mimetype": "text/x-python",
   "name": "python",
   "nbconvert_exporter": "python",
   "pygments_lexer": "ipython3",
   "version": "3.9.13"
  }
 },
 "nbformat": 4,
 "nbformat_minor": 5
}
